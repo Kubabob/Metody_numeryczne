{
 "cells": [
  {
   "cell_type": "markdown",
   "metadata": {},
   "source": [
    "Algorytm genetyczny to narzędzie służące do optymalizacji. W tym celu wykorzystuje właśnie podstawowe zagadnienia z genetyki.\n",
    "\n",
    "Wyobraźmy sobie CZYSTO HIPOTETYCZNĄ SYTUACJĘ w której chcemy napaść na sklep jubilerski. Sklep znajduje się niedaleko więc byliśmy tam. Znamy cenę i wagę każdego z przedmiotów.(ceny i wagi będą wymyślone na potrzeby łatwiejszego przedstawienia tej CZYSTO HIPOTETYCZNEJ SYTUACJI). Problemem jest jednak to, że możecie zabrać jedynie 5 przedmiotów o wadze maksymalnej 1kg.\n",
    "\n",
    "1. Pierścionek nr 1: 1000zł i 200g\n",
    "2. Pierścionek nr 2: 2000zł i 300g\n",
    "3. Pierścionek nr 3: 5000zł i 600g\n",
    "4. Naszyjnik nr 1: 300zł i 100g\n",
    "5. Naszyjnik nr 2: 1000zł i 100g\n",
    "6. Naszyjnik nr 3: 2000zł i 300g\n",
    "7. Kolia nr 1: 3000zł i 500g\n",
    "8. Kolia nr 2: 4000zł i 600g\n",
    "9. Kolia nr 3: 5000zł i 700g\n",
    "10. Obrączki nr 1: 2000 zł i 200g\n",
    "\n",
    "10 przedmiotów to nie jest dla nas zbyt duży problem aby obliczyć jaki zestaw najbardziej opłaca się ukraść. Będą to numery: 2, 3, 5 o łącznej sumie 8000zł i wadze 1000g.\n",
    "Spróbujmy to zapisać w inny sposób, taki, żeby komputer zrozumiał. Niech 1 oznacza, że bierzemy przedmiot i 0, że go zostawiamy.\n",
    "\n",
    "Powyższą sytuację moglibyśmy w takim razie przedstawić jako liste:\n",
    "[0, 1, 1, 0, 1, 0, 0, 0, 0, 0]\n",
    "\n",
    "No dobrze ale co jeśli będziemy mieli np 100 różnych przedmiotów?\n",
    "\n",
    "Załóżmy, że taka jedna lista zawierająca przedmioty, to osobnik, który bierze losowe przedmioty."
   ]
  },
  {
   "cell_type": "code",
   "execution_count": 934,
   "metadata": {},
   "outputs": [],
   "source": [
    "import random\n",
    "import numpy as np"
   ]
  },
  {
   "cell_type": "code",
   "execution_count": 935,
   "metadata": {},
   "outputs": [
    {
     "name": "stdout",
     "output_type": "stream",
     "text": [
      "Przykladowy osobnik: [0, 0, 0, 1, 1, 0, 1, 1, 0, 0]\n"
     ]
    }
   ],
   "source": [
    "maksymalnaLiczbaPrzedmiotow = 5\n",
    "maksymalnaWaga = 1000 #waga w gramach\n",
    "liczbaPrzedmiotow = 10\n",
    "liczbaOsobnikow = 20\n",
    "\n",
    "def stworzOsobnika(ileRzeczyMozeUniesc):\n",
    "    listaPrzedmiotow = []\n",
    "    for _ in range(ileRzeczyMozeUniesc):\n",
    "        listaPrzedmiotow.append(random.randint(0,1))\n",
    "    return listaPrzedmiotow\n",
    "\n",
    "print(f'Przykladowy osobnik: {stworzOsobnika(liczbaPrzedmiotow)}')"
   ]
  },
  {
   "cell_type": "markdown",
   "metadata": {},
   "source": [
    "Dla jednego osobnika to byłaby ciężka sprawa aby sprawdzić wszystkie możliwości. Zróbmy sobie 10 takich, ich grupe nazwijmy populacją."
   ]
  },
  {
   "cell_type": "code",
   "execution_count": 936,
   "metadata": {},
   "outputs": [
    {
     "name": "stdout",
     "output_type": "stream",
     "text": [
      "Przykladowa populacja:\n",
      " [[1, 0, 1, 0, 1, 0, 1, 0, 1, 0], [0, 1, 1, 1, 1, 1, 1, 0, 0, 1], [0, 0, 0, 0, 1, 0, 0, 0, 1, 1], [1, 0, 1, 0, 0, 0, 0, 0, 1, 0], [0, 1, 0, 0, 0, 0, 1, 1, 0, 0], [1, 0, 0, 1, 1, 1, 1, 1, 0, 0], [1, 1, 0, 1, 1, 1, 1, 0, 1, 1], [1, 1, 1, 1, 1, 0, 1, 1, 0, 0], [0, 1, 1, 1, 1, 1, 0, 1, 1, 0], [0, 1, 0, 1, 0, 1, 1, 1, 0, 1], [1, 1, 1, 1, 1, 1, 0, 0, 0, 1], [0, 1, 1, 1, 1, 1, 0, 0, 1, 0], [0, 1, 1, 0, 0, 0, 1, 0, 0, 1], [1, 1, 0, 0, 1, 0, 1, 0, 1, 1], [1, 1, 1, 1, 0, 0, 0, 1, 0, 0], [1, 1, 0, 0, 0, 1, 0, 0, 0, 1], [1, 0, 0, 0, 1, 1, 0, 1, 1, 0], [0, 1, 0, 1, 0, 1, 1, 1, 0, 0], [0, 0, 1, 0, 1, 0, 1, 0, 0, 1], [1, 0, 1, 0, 1, 0, 1, 0, 0, 1]]\n"
     ]
    }
   ],
   "source": [
    "def stworzPopulacje(liczbaOsobnikowWPopulacji):\n",
    "    listaOsobikow = []\n",
    "    for _ in range(liczbaOsobnikowWPopulacji):\n",
    "        listaOsobikow.append(stworzOsobnika(liczbaPrzedmiotow))\n",
    "    return listaOsobikow\n",
    "\n",
    "przykladowaPopulacja = stworzPopulacje(liczbaOsobnikow)\n",
    "print(f'Przykladowa populacja:\\n {przykladowaPopulacja}')"
   ]
  },
  {
   "cell_type": "markdown",
   "metadata": {},
   "source": [
    "No dobrze, to teraz chcielibyśmy ich jakoś ocenić. Do tego potrzebujemy tak zwanej funkcji fitnesu. Jeśli osobnik spełnia założenia tzn. nie waży więcej niż powinien oraz nie wziął większej liczby przedmiotów niż mu powiedzieliśmy to jego oceną będzie kwota jaką przyniesie. Jednak jeśli okaże się zbyt głupi aby słuchać się poleceń to oznaczamy go jako bezwartościowego, czyli 0.\n",
    "\n",
    "Dodatkowo musimy sobie zdefiniować listę przedmiotów i ich wagi."
   ]
  },
  {
   "cell_type": "code",
   "execution_count": 937,
   "metadata": {},
   "outputs": [],
   "source": [
    "cenyPrzedmiotow = [1000, 2000, 5000, 300, 1000, 2000, 3000, 4000, 5000, 2000]\n",
    "wagiPrzedmiotow = [100, 200, 500, 100, 100, 200, 400, 500, 600, 100]"
   ]
  },
  {
   "cell_type": "code",
   "execution_count": 938,
   "metadata": {},
   "outputs": [
    {
     "name": "stdout",
     "output_type": "stream",
     "text": [
      "Ocena osobników w przykładowej populacji:\n",
      "Osobnik nr 0: -15000.0\n",
      "Osobnik nr 1: -21420.0\n",
      "Osobnik nr 2: 8000\n",
      "Osobnik nr 3: -6600.0\n",
      "Osobnik nr 4: -5400.0\n",
      "Osobnik nr 5: -13560.0\n",
      "Osobnik nr 6: -26080.0\n",
      "Osobnik nr 7: -22820.0\n",
      "Osobnik nr 8: -27020.0\n",
      "Osobnik nr 9: -15960.0\n",
      "Osobnik nr 10: -18620.0\n",
      "Osobnik nr 11: -18360.0\n",
      "Osobnik nr 12: -9600.0\n",
      "Osobnik nr 13: -16800.0\n",
      "Osobnik nr 14: -12300.0\n",
      "Osobnik nr 15: 7000\n",
      "Osobnik nr 16: -13000.0\n",
      "Osobnik nr 17: -11300.0\n",
      "Osobnik nr 18: -8800.0\n",
      "Osobnik nr 19: -12000.0\n"
     ]
    }
   ],
   "source": [
    "def funkcjaFitnesu(osobnik, maksymalnaLiczbaPrzedmiotow, maksymalnaWaga):\n",
    "    liczbaPrzedmiotow = 0\n",
    "    cena = 0\n",
    "    waga = 0\n",
    "    for indexPrzedmiotu, przedmiot in enumerate(osobnik):\n",
    "        if przedmiot == 1:\n",
    "            liczbaPrzedmiotow += 1\n",
    "            cena += cenyPrzedmiotow[indexPrzedmiotu]\n",
    "            waga += wagiPrzedmiotow[indexPrzedmiotu]\n",
    "\n",
    "    if liczbaPrzedmiotow > maksymalnaLiczbaPrzedmiotow or waga > maksymalnaWaga:\n",
    "        #return round((1-(liczbaPrzedmiotow/maksymalnaLiczbaPrzedmiotow)) * cena, 2)\n",
    "        #return round(-(liczbaPrzedmiotow/maksymalnaLiczbaPrzedmiotow)*cena, 2)\n",
    "        return cena - \n",
    "    else:\n",
    "        return cena\n",
    "    \n",
    "def ocenaPopulacji(listaOsobnikow, maksymalnaLiczbaPrzedmiotow, maksymalnaWaga):\n",
    "    listaOcenOsobnikow = []\n",
    "    for osobnik in listaOsobnikow:\n",
    "        listaOcenOsobnikow.append(funkcjaFitnesu(osobnik, maksymalnaLiczbaPrzedmiotow, maksymalnaWaga))\n",
    "    \n",
    "    return listaOcenOsobnikow\n",
    "    \n",
    "przykladowaOcenaPopulacji = ocenaPopulacji(przykladowaPopulacja, maksymalnaLiczbaPrzedmiotow, maksymalnaWaga)\n",
    "\n",
    "    \n",
    "print(f'Ocena osobników w przykładowej populacji:')\n",
    "for index, osobnik in enumerate(przykladowaPopulacja):\n",
    "    print(f'Osobnik nr {index}: {funkcjaFitnesu(osobnik, maksymalnaLiczbaPrzedmiotow, maksymalnaWaga)}')"
   ]
  },
  {
   "cell_type": "markdown",
   "metadata": {},
   "source": [
    "No dobrze, to teraz chcielibyśmy ustawić ich w kolejności od najlepszego do najgorszego."
   ]
  },
  {
   "cell_type": "code",
   "execution_count": 939,
   "metadata": {},
   "outputs": [
    {
     "name": "stdout",
     "output_type": "stream",
     "text": [
      "Przykladowy ranking: [([0, 0, 0, 0, 1, 0, 0, 0, 1, 1], 8000), ([1, 1, 0, 0, 0, 1, 0, 0, 0, 1], 7000), ([0, 1, 0, 0, 0, 0, 1, 1, 0, 0], -5400.0), ([1, 0, 1, 0, 0, 0, 0, 0, 1, 0], -6600.0), ([0, 0, 1, 0, 1, 0, 1, 0, 0, 1], -8800.0), ([0, 1, 1, 0, 0, 0, 1, 0, 0, 1], -9600.0), ([0, 1, 0, 1, 0, 1, 1, 1, 0, 0], -11300.0), ([1, 0, 1, 0, 1, 0, 1, 0, 0, 1], -12000.0), ([1, 1, 1, 1, 0, 0, 0, 1, 0, 0], -12300.0), ([1, 0, 0, 0, 1, 1, 0, 1, 1, 0], -13000.0), ([1, 0, 0, 1, 1, 1, 1, 1, 0, 0], -13560.0), ([1, 0, 1, 0, 1, 0, 1, 0, 1, 0], -15000.0), ([0, 1, 0, 1, 0, 1, 1, 1, 0, 1], -15960.0), ([1, 1, 0, 0, 1, 0, 1, 0, 1, 1], -16800.0), ([0, 1, 1, 1, 1, 1, 0, 0, 1, 0], -18360.0), ([1, 1, 1, 1, 1, 1, 0, 0, 0, 1], -18620.0), ([0, 1, 1, 1, 1, 1, 1, 0, 0, 1], -21420.0), ([1, 1, 1, 1, 1, 0, 1, 1, 0, 0], -22820.0), ([1, 1, 0, 1, 1, 1, 1, 0, 1, 1], -26080.0), ([0, 1, 1, 1, 1, 1, 0, 1, 1, 0], -27020.0)]\n"
     ]
    }
   ],
   "source": [
    "def stworzRanking(listaOsobnikow, listaOcenOsobnikow):\n",
    "    ranking = zip(listaOsobnikow, listaOcenOsobnikow) #laczymy osobnikow i ich oceny\n",
    "\n",
    "    posortowanyRanking = sorted(ranking, key=lambda x: x[1], reverse=True)\n",
    "\n",
    "    return posortowanyRanking #zwracamy posortowana liste, gdzie kazdy element zawiera osobnika oraz jego ocene\n",
    "\n",
    "\n",
    "przykladowyRanking = stworzRanking(przykladowaPopulacja, przykladowaOcenaPopulacji)\n",
    "print(f'Przykladowy ranking: {przykladowyRanking}')"
   ]
  },
  {
   "cell_type": "markdown",
   "metadata": {},
   "source": [
    "No dobrze ale co teraz?\n",
    "I gdzie ta genetyka?\n",
    "\n",
    "No właśnie teraz będzie.\n",
    "\n",
    "Zagadnienia jakich będziemy używać to:\n",
    "    krzyżowanie(to też z religii)\n",
    "    crossing over\n",
    "    mutacja\n",
    "\n",
    "Zaczynając od góry, jak najlepiej skrzyżować dwóch osobników z populacji? Nie wiem, to chyba zależy od tej populacji ale co ja tam wiem. Wiem tylko, że sposobów jest wiele np. dobór losowy, na podstawie rankingu, ruletka z kasyna i wiele innych. My się skupimy na wersji z rankingiem jako, że już go mamy.\n",
    "\n",
    "Będziemy brali pierwszego i drugiego osobnika, trzeciego i czwartego itd.\n",
    "\n",
    "Ale jak ich krzyżować ze sobą? No za pomocą crossing over. Będziemy losować miejsce w którym będziemy ich ze sobą krzyżować.\n",
    "\n",
    "Przykład:\n",
    "                            | <- miejsce przecięcia\n",
    "Osobnik nr 1: [1, 0, 1, 0, 1, 0, 0, 1, 0, 0]\n",
    "Osobnik nr 2: [0, 1, 0, 1, 0, 0, 1, 0, 1, 0]\n",
    "\n",
    "Osobnik potomny nr 1: [1, 0, 1, 0, 1, 0, 1, 0, 1, 0]\n",
    "Osobnik potomny nr 2: [0, 1, 0, 1, 0, 0, 0, 1, 0, 0]\n",
    "\n",
    "\n",
    "Jak już ich skrzyżujemy to możemy zdecydować czy chcemy aby nasze osobniki potomne mutowały. Jeśli chcemy to też możnaby wybrać parę różnych możliwości np. losujemy czy mutacja się odbedzię, jeśli tak to losujemy miejsce takiej mutacji."
   ]
  },
  {
   "cell_type": "code",
   "execution_count": 940,
   "metadata": {},
   "outputs": [
    {
     "name": "stdout",
     "output_type": "stream",
     "text": [
      "Przykladowa nowa populacja: [[0, 0, 0, 0, 0, 1, 0, 0, 0, 1], [1, 1, 0, 0, 1, 0, 0, 0, 1, 1], [1, 0, 1, 0, 0, 0, 0, 0, 1, 0], [0, 1, 0, 0, 0, 0, 1, 1, 0, 0], [0, 0, 1, 0, 0, 0, 1, 0, 0, 1], [0, 1, 1, 0, 1, 0, 1, 0, 0, 1], [0, 1, 0, 1, 0, 1, 1, 1, 0, 1], [1, 0, 1, 0, 1, 0, 1, 0, 0, 0], [1, 0, 0, 0, 1, 1, 0, 1, 1, 0], [1, 1, 1, 1, 0, 0, 0, 1, 0, 0], [1, 0, 0, 1, 1, 1, 1, 1, 0, 0], [1, 0, 1, 0, 1, 0, 1, 0, 1, 0], [0, 1, 0, 0, 1, 0, 1, 0, 1, 1], [1, 1, 0, 1, 0, 1, 1, 1, 0, 1], [0, 1, 1, 1, 1, 1, 0, 0, 0, 1], [1, 1, 1, 1, 1, 1, 0, 0, 1, 0], [0, 1, 1, 1, 1, 1, 1, 0, 0, 0], [1, 1, 1, 1, 1, 0, 1, 1, 0, 1], [1, 1, 1, 1, 1, 1, 0, 1, 1, 0], [0, 1, 0, 1, 1, 1, 1, 0, 1, 1]]\n"
     ]
    }
   ],
   "source": [
    "prawdopodobienstwoMutacji = 0.1 #10% prawdopodobienstwo mutacji\n",
    "\n",
    "def crossingOver(osobnik1, osobnik2):\n",
    "    miejsceCrossingOver = random.randint(0, len(osobnik1)-1)\n",
    "\n",
    "    osobnikPotomny1, osobnikPotomny2 = osobnik1[:miejsceCrossingOver] + osobnik2[miejsceCrossingOver:], osobnik2[:miejsceCrossingOver] + osobnik1[miejsceCrossingOver:]\n",
    "\n",
    "    return osobnikPotomny1, osobnikPotomny2\n",
    "\n",
    "\n",
    "def mutacja(osobnik, prawdopodobienstwoMutacji):\n",
    "    prawdopodobienstwoZeZmutuje = random.random()\n",
    "\n",
    "    if prawdopodobienstwoZeZmutuje < prawdopodobienstwoMutacji:\n",
    "        miejsceMutacji = random.randint(0, len(osobnik)-1)\n",
    "        if osobnik[miejsceMutacji] == 0:\n",
    "            osobnik[miejsceMutacji] = 1\n",
    "        else:\n",
    "            osobnik[miejsceMutacji] = 0\n",
    "\n",
    "        #mozna tez zrobic ze osobnik[miejsceMutacji] = abs(1-osobnik[miejsceMutacji]) <- to taka ciekawostka z matematyki\n",
    "            \n",
    "    return osobnik\n",
    "\n",
    "    \n",
    "def tworzenieNowejPopulacji(rankingOsobnikow, prawdopodobienstwoMutacji):\n",
    "    nowaPopulacja = []\n",
    "    for i in range(0, len(rankingOsobnikow), 2): #przechodzimy co 2\n",
    "        osobnikPotomny1, osobnikPotomny2 = crossingOver(rankingOsobnikow[i][0], rankingOsobnikow[i+1][0])\n",
    "        osobnikPotomny1, osobnikPotomny2 = mutacja(osobnikPotomny1, prawdopodobienstwoMutacji), mutacja(osobnikPotomny2, prawdopodobienstwoMutacji)\n",
    "        nowaPopulacja.append(osobnikPotomny1)\n",
    "        nowaPopulacja.append(osobnikPotomny2)\n",
    "    return nowaPopulacja\n",
    "\n",
    "przykladowaNowaPopulacja = tworzenieNowejPopulacji(przykladowyRanking, prawdopodobienstwoMutacji)\n",
    "print(f'Przykladowa nowa populacja: {przykladowaNowaPopulacja}')"
   ]
  },
  {
   "cell_type": "markdown",
   "metadata": {},
   "source": [
    "Teraz możemy połączyć to wszystko w całość i sprawdzić jak działa nasz algorytm. Ale musimy najpierw zdefiniować ile populacji chcemy aby nasz algorytm przeprowadził. Niech będzie to 10."
   ]
  },
  {
   "cell_type": "code",
   "execution_count": 966,
   "metadata": {},
   "outputs": [
    {
     "name": "stdout",
     "output_type": "stream",
     "text": [
      "Najlepsze rozwiązanie: ([0, 1, 0, 0, 0, 1, 0, 1, 0, 1], 10000)\n"
     ]
    }
   ],
   "source": [
    "liczbaPopulacji = 100\n",
    "\n",
    "def algorytmGenetyczny(liczbaOsobnikowWPopulacji, prawdopodobienstwoMutacji, maksymalnaLiczbaPrzedmiotow, maksymalnaWaga):\n",
    "    \n",
    "    for i in range(liczbaPopulacji):\n",
    "        if i == 0:\n",
    "            populacja = stworzPopulacje(liczbaOsobnikowWPopulacji)\n",
    "        else:\n",
    "            populacja = tworzenieNowejPopulacji(ranking, prawdopodobienstwoMutacji)\n",
    "        \n",
    "        listaOcen = ocenaPopulacji(populacja, maksymalnaLiczbaPrzedmiotow, maksymalnaWaga)\n",
    "        ranking = stworzRanking(populacja, listaOcen)\n",
    "\n",
    "    return ranking[0]\n",
    "        \n",
    "przykladoweRozwiazanie = algorytmGenetyczny(liczbaOsobnikow, prawdopodobienstwoMutacji, maksymalnaLiczbaPrzedmiotow, maksymalnaWaga)\n",
    "\n",
    "print(f'Najlepsze rozwiązanie: {przykladoweRozwiazanie}')"
   ]
  }
 ],
 "metadata": {
  "kernelspec": {
   "display_name": "Python 3",
   "language": "python",
   "name": "python3"
  },
  "language_info": {
   "codemirror_mode": {
    "name": "ipython",
    "version": 3
   },
   "file_extension": ".py",
   "mimetype": "text/x-python",
   "name": "python",
   "nbconvert_exporter": "python",
   "pygments_lexer": "ipython3",
   "version": "3.10.12"
  }
 },
 "nbformat": 4,
 "nbformat_minor": 2
}
