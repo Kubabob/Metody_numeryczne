{
 "cells": [
  {
   "cell_type": "code",
   "execution_count": 30,
   "metadata": {},
   "outputs": [
    {
     "name": "stdout",
     "output_type": "stream",
     "text": [
      "h: 2**-4\tf(x+h): 0.9755509495735168\tf(x+h)-f(x): 0.020234346389770508\tf'(x): 0.3237495422363281\n",
      "h: 2**-12\tf(x+h): 0.9553979635238647\tf(x+h)-f(x): 8.13603401184082e-05\tf'(x): 0.333251953125\n",
      "h: 2**-18\tf(x+h): 0.9553178548812866\tf(x+h)-f(x): 1.2516975402832031e-06\tf'(x): 0.328125\n",
      "h: 2**-24\tf(x+h): 0.9553166627883911\tf(x+h)-f(x): 5.960464477539063e-08\tf'(x): 1.0\n",
      "h: 2**-26\tf(x+h): 0.9553166031837463\tf(x+h)-f(x): 0.0\tf'(x): 0.0\n"
     ]
    }
   ],
   "source": [
    "#policzyc pochodna funkcji w x = sqrt(2) dla arctg(x)\n",
    "\n",
    "import numpy as np\n",
    "\n",
    "def f(x, h=0):\n",
    "    return np.float32(np.arctan(x+h))\n",
    "\n",
    "def f_prim(x, h, n=1):\n",
    "    if n == 1:\n",
    "        return np.float32((f(x, h) - f(x))/h)\n",
    "    else:\n",
    "        return f_prim(f_prim(x, h, n-1), h, n)\n",
    "\n",
    "def fn_prim(x, h, n):\n",
    "    if n == 1:\n",
    "        return f_prim(x, h)\n",
    "    else:\n",
    "        return f_prim(f_prim(x, h), h)\n",
    "\n",
    "e_h = [-4, -12, -18, -24, -26]\n",
    "\n",
    "x = np.float32(np.sqrt(2))\n",
    "for e in e_h:\n",
    "    h = np.float32(2**e)\n",
    "    print(f\"h: 2**{e}\\tf(x+h): {f(x, h)}\\tf(x+h)-f(x): {f(x, h) - f(x)}\\tf'(x): {f_prim(x, h)}\")"
   ]
  },
  {
   "cell_type": "code",
   "execution_count": 32,
   "metadata": {},
   "outputs": [
    {
     "name": "stdout",
     "output_type": "stream",
     "text": [
      "0.09172331\n"
     ]
    },
    {
     "ename": "RecursionError",
     "evalue": "maximum recursion depth exceeded while calling a Python object",
     "output_type": "error",
     "traceback": [
      "\u001b[0;31m---------------------------------------------------------------------------\u001b[0m",
      "\u001b[0;31mRecursionError\u001b[0m                            Traceback (most recent call last)",
      "Cell \u001b[0;32mIn[32], line 2\u001b[0m\n\u001b[1;32m      1\u001b[0m \u001b[38;5;28mprint\u001b[39m(f_prim(f_prim(x, e_h[\u001b[38;5;241m2\u001b[39m]), e_h[\u001b[38;5;241m2\u001b[39m]))\n\u001b[0;32m----> 2\u001b[0m \u001b[38;5;28mprint\u001b[39m(\u001b[43mf_prim\u001b[49m\u001b[43m(\u001b[49m\u001b[43mx\u001b[49m\u001b[43m,\u001b[49m\u001b[43m \u001b[49m\u001b[43me_h\u001b[49m\u001b[43m[\u001b[49m\u001b[38;5;241;43m2\u001b[39;49m\u001b[43m]\u001b[49m\u001b[43m,\u001b[49m\u001b[43m \u001b[49m\u001b[38;5;241;43m2\u001b[39;49m\u001b[43m)\u001b[49m)\n",
      "Cell \u001b[0;32mIn[30], line 12\u001b[0m, in \u001b[0;36mf_prim\u001b[0;34m(x, h, n)\u001b[0m\n\u001b[1;32m     10\u001b[0m     \u001b[38;5;28;01mreturn\u001b[39;00m np\u001b[38;5;241m.\u001b[39mfloat32((f(x, h) \u001b[38;5;241m-\u001b[39m f(x))\u001b[38;5;241m/\u001b[39mh)\n\u001b[1;32m     11\u001b[0m \u001b[38;5;28;01melse\u001b[39;00m:\n\u001b[0;32m---> 12\u001b[0m     \u001b[38;5;28;01mreturn\u001b[39;00m \u001b[43mf_prim\u001b[49m\u001b[43m(\u001b[49m\u001b[43mf_prim\u001b[49m\u001b[43m(\u001b[49m\u001b[43mx\u001b[49m\u001b[43m,\u001b[49m\u001b[43m \u001b[49m\u001b[43mh\u001b[49m\u001b[43m,\u001b[49m\u001b[43m \u001b[49m\u001b[43mn\u001b[49m\u001b[38;5;241;43m-\u001b[39;49m\u001b[38;5;241;43m1\u001b[39;49m\u001b[43m)\u001b[49m\u001b[43m,\u001b[49m\u001b[43m \u001b[49m\u001b[43mh\u001b[49m\u001b[43m,\u001b[49m\u001b[43m \u001b[49m\u001b[43mn\u001b[49m\u001b[43m)\u001b[49m\n",
      "Cell \u001b[0;32mIn[30], line 12\u001b[0m, in \u001b[0;36mf_prim\u001b[0;34m(x, h, n)\u001b[0m\n\u001b[1;32m     10\u001b[0m     \u001b[38;5;28;01mreturn\u001b[39;00m np\u001b[38;5;241m.\u001b[39mfloat32((f(x, h) \u001b[38;5;241m-\u001b[39m f(x))\u001b[38;5;241m/\u001b[39mh)\n\u001b[1;32m     11\u001b[0m \u001b[38;5;28;01melse\u001b[39;00m:\n\u001b[0;32m---> 12\u001b[0m     \u001b[38;5;28;01mreturn\u001b[39;00m \u001b[43mf_prim\u001b[49m\u001b[43m(\u001b[49m\u001b[43mf_prim\u001b[49m\u001b[43m(\u001b[49m\u001b[43mx\u001b[49m\u001b[43m,\u001b[49m\u001b[43m \u001b[49m\u001b[43mh\u001b[49m\u001b[43m,\u001b[49m\u001b[43m \u001b[49m\u001b[43mn\u001b[49m\u001b[38;5;241;43m-\u001b[39;49m\u001b[38;5;241;43m1\u001b[39;49m\u001b[43m)\u001b[49m\u001b[43m,\u001b[49m\u001b[43m \u001b[49m\u001b[43mh\u001b[49m\u001b[43m,\u001b[49m\u001b[43m \u001b[49m\u001b[43mn\u001b[49m\u001b[43m)\u001b[49m\n",
      "    \u001b[0;31m[... skipping similar frames: f_prim at line 12 (2968 times)]\u001b[0m\n",
      "Cell \u001b[0;32mIn[30], line 12\u001b[0m, in \u001b[0;36mf_prim\u001b[0;34m(x, h, n)\u001b[0m\n\u001b[1;32m     10\u001b[0m     \u001b[38;5;28;01mreturn\u001b[39;00m np\u001b[38;5;241m.\u001b[39mfloat32((f(x, h) \u001b[38;5;241m-\u001b[39m f(x))\u001b[38;5;241m/\u001b[39mh)\n\u001b[1;32m     11\u001b[0m \u001b[38;5;28;01melse\u001b[39;00m:\n\u001b[0;32m---> 12\u001b[0m     \u001b[38;5;28;01mreturn\u001b[39;00m f_prim(\u001b[43mf_prim\u001b[49m\u001b[43m(\u001b[49m\u001b[43mx\u001b[49m\u001b[43m,\u001b[49m\u001b[43m \u001b[49m\u001b[43mh\u001b[49m\u001b[43m,\u001b[49m\u001b[43m \u001b[49m\u001b[43mn\u001b[49m\u001b[38;5;241;43m-\u001b[39;49m\u001b[38;5;241;43m1\u001b[39;49m\u001b[43m)\u001b[49m, h, n)\n",
      "Cell \u001b[0;32mIn[30], line 10\u001b[0m, in \u001b[0;36mf_prim\u001b[0;34m(x, h, n)\u001b[0m\n\u001b[1;32m      8\u001b[0m \u001b[38;5;28;01mdef\u001b[39;00m \u001b[38;5;21mf_prim\u001b[39m(x, h, n\u001b[38;5;241m=\u001b[39m\u001b[38;5;241m1\u001b[39m):\n\u001b[1;32m      9\u001b[0m     \u001b[38;5;28;01mif\u001b[39;00m n \u001b[38;5;241m==\u001b[39m \u001b[38;5;241m1\u001b[39m:\n\u001b[0;32m---> 10\u001b[0m         \u001b[38;5;28;01mreturn\u001b[39;00m np\u001b[38;5;241m.\u001b[39mfloat32((\u001b[43mf\u001b[49m\u001b[43m(\u001b[49m\u001b[43mx\u001b[49m\u001b[43m,\u001b[49m\u001b[43m \u001b[49m\u001b[43mh\u001b[49m\u001b[43m)\u001b[49m \u001b[38;5;241m-\u001b[39m f(x))\u001b[38;5;241m/\u001b[39mh)\n\u001b[1;32m     11\u001b[0m     \u001b[38;5;28;01melse\u001b[39;00m:\n\u001b[1;32m     12\u001b[0m         \u001b[38;5;28;01mreturn\u001b[39;00m f_prim(f_prim(x, h, n\u001b[38;5;241m-\u001b[39m\u001b[38;5;241m1\u001b[39m), h, n)\n",
      "Cell \u001b[0;32mIn[30], line 6\u001b[0m, in \u001b[0;36mf\u001b[0;34m(x, h)\u001b[0m\n\u001b[1;32m      5\u001b[0m \u001b[38;5;28;01mdef\u001b[39;00m \u001b[38;5;21mf\u001b[39m(x, h\u001b[38;5;241m=\u001b[39m\u001b[38;5;241m0\u001b[39m):\n\u001b[0;32m----> 6\u001b[0m     \u001b[38;5;28;01mreturn\u001b[39;00m \u001b[43mnp\u001b[49m\u001b[38;5;241;43m.\u001b[39;49m\u001b[43mfloat32\u001b[49m\u001b[43m(\u001b[49m\u001b[43mnp\u001b[49m\u001b[38;5;241;43m.\u001b[39;49m\u001b[43marctan\u001b[49m\u001b[43m(\u001b[49m\u001b[43mx\u001b[49m\u001b[38;5;241;43m+\u001b[39;49m\u001b[43mh\u001b[49m\u001b[43m)\u001b[49m\u001b[43m)\u001b[49m\n",
      "\u001b[0;31mRecursionError\u001b[0m: maximum recursion depth exceeded while calling a Python object"
     ]
    }
   ],
   "source": [
    "print(f_prim(f_prim(x, e_h[2]), e_h[2]))\n",
    "print(f_prim(x, e_h[2], 2))"
   ]
  },
  {
   "cell_type": "code",
   "execution_count": 22,
   "metadata": {},
   "outputs": [
    {
     "name": "stdout",
     "output_type": "stream",
     "text": [
      "h: 2**-2\tf(x+h): 1.0297267436981201\tf(x+h)-f(x-h): 0.16859692335128784\tf'(x): 0.3371938467025757\n",
      "h: 2**-10\tf(x+h): 0.9556419849395752\tf(x+h)-f(x-h): 0.0006510615348815918\tf'(x): 0.333343505859375\n",
      "h: 2**-18\tf(x+h): 0.9553178548812866\tf(x+h)-f(x-h): 2.5033950805664062e-06\tf'(x): 0.328125\n",
      "h: 2**-24\tf(x+h): 0.9553166627883911\tf(x+h)-f(x-h): 1.1920928955078125e-07\tf'(x): 1.0\n",
      "h: 2**-26\tf(x+h): 0.9553166031837463\tf(x+h)-f(x-h): 0.0\tf'(x): 0.0\n"
     ]
    }
   ],
   "source": [
    "def other_fPrim(x, h):\n",
    "    return np.float32((f(x, h) - f(x, -h))/(2*h))\n",
    "\n",
    "e_h2 = [-2, -10, -18, -24, -26]\n",
    "\n",
    "for e in e_h2:\n",
    "    h = np.float32(2**e)\n",
    "\n",
    "    print(f\"h: 2**{e}\\tf(x+h): {f(x, h)}\\tf(x+h)-f(x-h): {f(x, h) - f(x, -h)}\\tf'(x): {other_fPrim(x, h)}\")"
   ]
  },
  {
   "cell_type": "code",
   "execution_count": 29,
   "metadata": {},
   "outputs": [
    {
     "name": "stdout",
     "output_type": "stream",
     "text": [
      "h: 1\tf'(x): 0.3341282705465952\n",
      "h: 0.5\tf'(x): 0.3333348035812378\n",
      "h: 0.25\tf'(x): 0.333332896232605\n",
      "h: 0.125\tf'(x): 0.3333336512247721\n",
      "h: 0.0625\tf'(x): 0.3333338101704915\n",
      "h: 0.03125\tf'(x): 0.3333342870076498\n",
      "h: 0.015625\tf'(x): 0.3333314259847005\n",
      "h: 0.0078125\tf'(x): 0.33333587646484375\n",
      "h: 0.00390625\tf'(x): 0.33334604899088544\n",
      "h: 0.001953125\tf'(x): 0.333343505859375\n"
     ]
    }
   ],
   "source": [
    "def Richardson_prim(x, h, n):\n",
    "    suma = (4/3) * ((f(x,h/2) - f(x, -h/2))/h) - (1/3) * ((f(x, h) - f(x, -h))/(2*h))\n",
    "    for i in range(4, 4+((n-1)*2), 2):\n",
    "        suma += (h**i * (fn_prim(x, h, i+1)/(i*np.math.factorial(i+1))))\n",
    "    return suma\n",
    "\n",
    "for i in range(10):\n",
    "    if i == 0:\n",
    "        h = 1\n",
    "    else:\n",
    "        h /= 2\n",
    "\n",
    "    print(f\"h: {h}\\tf'(x): {Richardson_prim(x, h, 1)}\")"
   ]
  }
 ],
 "metadata": {
  "kernelspec": {
   "display_name": "Python 3",
   "language": "python",
   "name": "python3"
  },
  "language_info": {
   "codemirror_mode": {
    "name": "ipython",
    "version": 3
   },
   "file_extension": ".py",
   "mimetype": "text/x-python",
   "name": "python",
   "nbconvert_exporter": "python",
   "pygments_lexer": "ipython3",
   "version": "3.10.12"
  }
 },
 "nbformat": 4,
 "nbformat_minor": 2
}
