{
 "cells": [
  {
   "cell_type": "code",
   "execution_count": null,
   "metadata": {},
   "outputs": [
    {
     "ename": "",
     "evalue": "",
     "output_type": "error",
     "traceback": [
      "\u001b[1;31mRunning cells with '/bin/python3.12' requires the ipykernel package.\n",
      "\u001b[1;31mRun the following command to install 'ipykernel' into the Python environment. \n",
      "\u001b[1;31mCommand: '/bin/python3.12 -m pip install ipykernel -U --user --force-reinstall'"
     ]
    }
   ],
   "source": [
    "import numpy as np\n",
    "import matplotlib.pyplot as plt"
   ]
  },
  {
   "cell_type": "code",
   "execution_count": null,
   "metadata": {},
   "outputs": [
    {
     "ename": "",
     "evalue": "",
     "output_type": "error",
     "traceback": [
      "\u001b[1;31mRunning cells with '/bin/python3.12' requires the ipykernel package.\n",
      "\u001b[1;31mRun the following command to install 'ipykernel' into the Python environment. \n",
      "\u001b[1;31mCommand: '/bin/python3.12 -m pip install ipykernel -U --user --force-reinstall'"
     ]
    }
   ],
   "source": [
    "data = np.array([[1.0, 3.0], [2.0, 1.0], [3.5,4.], [5., 0.], [6., 0.5], [9., -2.], [9.5, -3.0]])"
   ]
  },
  {
   "cell_type": "code",
   "execution_count": null,
   "metadata": {},
   "outputs": [
    {
     "ename": "",
     "evalue": "",
     "output_type": "error",
     "traceback": [
      "\u001b[1;31mRunning cells with '/bin/python3.12' requires the ipykernel package.\n",
      "\u001b[1;31mRun the following command to install 'ipykernel' into the Python environment. \n",
      "\u001b[1;31mCommand: '/bin/python3.12 -m pip install ipykernel -U --user --force-reinstall'"
     ]
    }
   ],
   "source": [
    "def h(i):\n",
    "    return data[i+1][0] - data[i][0]\n",
    "\n",
    "def b(i):\n",
    "    return (6/h(i)) * (data[i+1][1] - data[i][1])\n",
    "\n",
    "def u(i):\n",
    "    if i == 1:\n",
    "        return 2*(h(i-1) + h(i))\n",
    "    return 2*(h(i-1) + h(i)) - (h(i-1)**2)/u(i-1)\n",
    "\n",
    "def v(i):\n",
    "    if i == 1:\n",
    "        return b(i) - b(i-1)\n",
    "    return b(i) - b(i-1) - h(i-1) * (v(i-1)/u(i-1))\n",
    "\n",
    "def z(i):\n",
    "    if i == 0 or i == len(data)-1:\n",
    "        return 0\n",
    "    else:\n",
    "        return (v(i) - h(i)*z(i+1))/u(i)\n",
    "    \n",
    "def A(i):\n",
    "    return (z(i+1) - z(i))/(6*h(i))\n",
    "\n",
    "def B(i):\n",
    "    return z(i)/2\n",
    "\n",
    "def C(i):\n",
    "    return (-h(i)/6) * (z(i+1)+2*z(i)) + (data[i+1][1] - data[i][1])/h(i)\n",
    "\n",
    "def S(i, x):\n",
    "    return data[i][1] + (x - data[i][0]) * (C(i) + (x-data[i][0]) * (B(i) + (x-data[i][0])*A(i)))\n"
   ]
  },
  {
   "cell_type": "markdown",
   "metadata": {},
   "source": [
    "zadanie 1"
   ]
  },
  {
   "cell_type": "code",
   "execution_count": null,
   "metadata": {},
   "outputs": [
    {
     "ename": "",
     "evalue": "",
     "output_type": "error",
     "traceback": [
      "\u001b[1;31mRunning cells with '/bin/python3.12' requires the ipykernel package.\n",
      "\u001b[1;31mRun the following command to install 'ipykernel' into the Python environment. \n",
      "\u001b[1;31mCommand: '/bin/python3.12 -m pip install ipykernel -U --user --force-reinstall'"
     ]
    }
   ],
   "source": [
    "cs_y = []\n",
    "x_space = []\n",
    "\n",
    "\n",
    "for i in range(data.shape[0]-1):\n",
    "    if i == 0:\n",
    "        iksy = np.linspace(0, data[i+1][0], 20)\n",
    "    elif i == data.shape[0]-2:\n",
    "        iksy = np.linspace(data[i][0], 10.5, 20)\n",
    "    else:\n",
    "        iksy = np.linspace(data[i][0], data[i + 1][0], 20)\n",
    "\n",
    "    x_space.extend(iksy)\n",
    "    interpolated = S(i, iksy)\n",
    "    cs_y.extend(interpolated)\n",
    "else:\n",
    "    plt.scatter(data[:,0], data[:,1], label='Wezly')\n",
    "    plt.plot(x_space, cs_y, label='Cubic spline')\n",
    "    plt.legend()\n",
    "    plt.show()"
   ]
  },
  {
   "cell_type": "markdown",
   "metadata": {},
   "source": [
    "zadanie 2"
   ]
  },
  {
   "cell_type": "code",
   "execution_count": null,
   "metadata": {},
   "outputs": [
    {
     "ename": "",
     "evalue": "",
     "output_type": "error",
     "traceback": [
      "\u001b[1;31mRunning cells with '/bin/python3.12' requires the ipykernel package.\n",
      "\u001b[1;31mRun the following command to install 'ipykernel' into the Python environment. \n",
      "\u001b[1;31mCommand: '/bin/python3.12 -m pip install ipykernel -U --user --force-reinstall'"
     ]
    }
   ],
   "source": [
    "def s(x, yi, yi1, ti, ti1):\n",
    "    return ((yi1-yi)/(ti1-ti)) * (x - ti) + yi"
   ]
  },
  {
   "cell_type": "code",
   "execution_count": null,
   "metadata": {},
   "outputs": [
    {
     "ename": "",
     "evalue": "",
     "output_type": "error",
     "traceback": [
      "\u001b[1;31mRunning cells with '/bin/python3.12' requires the ipykernel package.\n",
      "\u001b[1;31mRun the following command to install 'ipykernel' into the Python environment. \n",
      "\u001b[1;31mCommand: '/bin/python3.12 -m pip install ipykernel -U --user --force-reinstall'"
     ]
    }
   ],
   "source": [
    "def Lagrange_interpol(x, wezly, stopien):\n",
    "    suma = 0\n",
    "    for i in range(stopien+1):\n",
    "        iloczyn = 1\n",
    "        for j in range(stopien+1):\n",
    "            if i != j:\n",
    "                iloczyn *= (x-wezly[j])/(wezly[i]-wezly[j])\n",
    "        else:\n",
    "            suma += data[i,1] * iloczyn\n",
    "    else:\n",
    "        return suma\n",
    "\n",
    "li_y = np.array([Lagrange_interpol(x, data[:,0], len(data[:,0])-1) for x in x_space])"
   ]
  },
  {
   "cell_type": "code",
   "execution_count": null,
   "metadata": {},
   "outputs": [
    {
     "ename": "",
     "evalue": "",
     "output_type": "error",
     "traceback": [
      "\u001b[1;31mRunning cells with '/bin/python3.12' requires the ipykernel package.\n",
      "\u001b[1;31mRun the following command to install 'ipykernel' into the Python environment. \n",
      "\u001b[1;31mCommand: '/bin/python3.12 -m pip install ipykernel -U --user --force-reinstall'"
     ]
    }
   ],
   "source": [
    "ls_y = []\n",
    "for i in range(data.shape[0]-1):\n",
    "    if i == 0:\n",
    "        iksy = np.linspace(0, data[i+1][0], 20)\n",
    "    elif i == data.shape[0]-2:\n",
    "        iksy = np.linspace(data[i][0], 10.5, 20)\n",
    "    else:\n",
    "        iksy = np.linspace(data[i][0], data[i + 1][0], 20)\n",
    "\n",
    "    interpolated = s(iksy, data[i][1], data[i + 1][1], data[i][0], data[i + 1][0])\n",
    "    ls_y.extend(interpolated)\n",
    "else:\n",
    "    plt.scatter(data[:,0], data[:,1], label='Wezly')\n",
    "    plt.plot(x_space, ls_y, label='Linear spline')\n",
    "    plt.plot(x_space, cs_y, label='Cubic spline')\n",
    "    plt.plot(x_space, li_y, label='Lagrange interpolation')\n",
    "    plt.ylim(-8, 12)\n",
    "    plt.legend()\n",
    "    plt.show()"
   ]
  },
  {
   "cell_type": "markdown",
   "metadata": {},
   "source": [
    "zadanie 3"
   ]
  },
  {
   "cell_type": "code",
   "execution_count": null,
   "metadata": {},
   "outputs": [
    {
     "ename": "",
     "evalue": "",
     "output_type": "error",
     "traceback": [
      "\u001b[1;31mRunning cells with '/bin/python3.12' requires the ipykernel package.\n",
      "\u001b[1;31mRun the following command to install 'ipykernel' into the Python environment. \n",
      "\u001b[1;31mCommand: '/bin/python3.12 -m pip install ipykernel -U --user --force-reinstall'"
     ]
    }
   ],
   "source": [
    "from scipy.interpolate import CubicSpline"
   ]
  },
  {
   "cell_type": "code",
   "execution_count": null,
   "metadata": {},
   "outputs": [
    {
     "ename": "",
     "evalue": "",
     "output_type": "error",
     "traceback": [
      "\u001b[1;31mRunning cells with '/bin/python3.12' requires the ipykernel package.\n",
      "\u001b[1;31mRun the following command to install 'ipykernel' into the Python environment. \n",
      "\u001b[1;31mCommand: '/bin/python3.12 -m pip install ipykernel -U --user --force-reinstall'"
     ]
    }
   ],
   "source": [
    "cs = CubicSpline(data[:,0], data[:,1])\n",
    "plt.scatter(data[:,0], data[:,1], label='Wezly')\n",
    "plt.plot(x_space, cs_y, label='Cubic spline')\n",
    "plt.plot(x_space, cs(x_space), label=\"Scipy's CubicSpline\")\n",
    "plt.legend()\n",
    "plt.show()"
   ]
  },
  {
   "cell_type": "markdown",
   "metadata": {},
   "source": [
    "Wykresy się nie pokrywają ze względu na warunek brzegowy zawarty w CubicSpline. Użycie warunku brzegowego 'natural' zamiast standardowego 'not-a-knot' sprawi, że wykresy zaczną się pokrywać."
   ]
  }
 ],
 "metadata": {
  "kernelspec": {
   "display_name": "venv",
   "language": "python",
   "name": "python3"
  },
  "language_info": {
   "codemirror_mode": {
    "name": "ipython",
    "version": 3
   },
   "file_extension": ".py",
   "mimetype": "text/x-python",
   "name": "python",
   "nbconvert_exporter": "python",
   "pygments_lexer": "ipython3",
   "version": "3.12.0"
  }
 },
 "nbformat": 4,
 "nbformat_minor": 2
}
