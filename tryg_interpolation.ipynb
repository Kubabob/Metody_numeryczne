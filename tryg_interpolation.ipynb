{
 "cells": [
  {
   "cell_type": "code",
   "execution_count": null,
   "metadata": {},
   "outputs": [],
   "source": [
    "'''\n",
    "z = r * e ^ i*theta\n",
    "\n",
    "e ^ i*theta = cos(theta) + i*sin(theta)\n",
    "\n",
    "\n",
    "1)\n",
    "szeregi Fouriera -> opis zjawisk powtarzalnych\n",
    "\n",
    "Tw. Jezeli funkcja f o okresie 2pi ma pierwsza pochodna ciagla to jej szereg Fouriera:\n",
    "\n",
    "    F := 1/2 a0 + sum[k=1 > inf] (ak cos(kx) + bk sin(kx))\n",
    "\n",
    "        o wspolczynnikach:\n",
    "    \n",
    "    a0 := 1/pi int[-pi > pi] (f(t) cos(kt) dt)\n",
    "    b0 := 1/pi int[-pi > pi] (f(t) sin(kt) dt)\n",
    "\n",
    "    jest jednostajnie zbiezny do f\n",
    "\n",
    "\n",
    "2) zespolone szeregi Fouriera\n",
    "\n",
    "\n",
    "3) szereg Fouriera funkcji okresowej f o wartosciach zespolonych dany jest wzorem:\n",
    "\n",
    "    f(x) ~ sum[k=-inf > inf] (f&(k) e^i*k*x)\n",
    "    f&(k) := 1/2pi int[-inf > inf] (f(t) e^-i*k*t dt)\n",
    "\n",
    "Tw. jesli dla danych ciagow rzeczywistych {ak}[0 > inf] i {bk}[0 > inf]\n",
    "    b0 := 0, a_-k := ak, b_-k := -bk, ck = 1/2 (ak - ibk)\n",
    "    to 1/2 a0 + sum[k=1 > n] (ak cos(kx) + bk sin(kx)) = sum[k=-n > n] (ck e^ikx)\n",
    "\n",
    "Dowod:\n",
    "    sum[k=-n > n] (ck e^ikx) = sum[k=-n > n] (1/2 (an - ibn) e^ikx)\n",
    "\n",
    "5) Interpolacja trygonometryczna c.d.\n",
    "\n",
    "sum[k=-n > n] (cn e^(ikx)) = 1/2 * a0 + sum[k=1 > n] (ancos(kx) + bn sin(kx))\n",
    "cn = 1/2 (an - ibn), an = a_-n, b_-n = -bn, b0 = 0\n",
    "\n",
    "Ek(x) := e^ikx, k=0, +/- 1, +/- 2, ...\n",
    "\n",
    "Pseudoiloczyn skalarny:\n",
    "<f,g>_N := 1/N sum[j=0 > N-1] f(2pij/N) * g{kreska}(2pij/N)\n",
    "\n",
    "zachodzi:\n",
    "<f,f>_N >= 0; <f,g>_N = <g,f>{kreska}_N, <alpha f+ beta g, h>_N = alpha <f,h>_N + beta <g,h>_N\n",
    "'''"
   ]
  }
 ],
 "metadata": {
  "language_info": {
   "name": "python"
  }
 },
 "nbformat": 4,
 "nbformat_minor": 2
}
