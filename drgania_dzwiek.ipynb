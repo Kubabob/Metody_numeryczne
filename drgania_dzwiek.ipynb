{
 "cells": [
  {
   "cell_type": "code",
   "execution_count": 1,
   "metadata": {},
   "outputs": [],
   "source": [
    "# h = 1/s\n",
    "# f(x) = A * sin(2pi*h*x)"
   ]
  },
  {
   "cell_type": "code",
   "execution_count": 38,
   "metadata": {},
   "outputs": [],
   "source": [
    "from numpy import sin, cos, pi,array, arange\n",
    "import sounddevice as sd\n",
    "import matplotlib.pyplot as plt"
   ]
  },
  {
   "cell_type": "code",
   "execution_count": 7,
   "metadata": {},
   "outputs": [],
   "source": [
    "def f(x, A, h):\n",
    "    return A* sin(2*pi*h*x)"
   ]
  },
  {
   "cell_type": "code",
   "execution_count": 32,
   "metadata": {},
   "outputs": [],
   "source": [
    "freq = 440\n",
    "fs = 48000\n",
    "seconds = 3\n",
    "dt = 1/fs\n",
    "t = arange(0,seconds,dt)"
   ]
  },
  {
   "cell_type": "code",
   "execution_count": 33,
   "metadata": {},
   "outputs": [
    {
     "name": "stdout",
     "output_type": "stream",
     "text": [
      "(144000,)\n"
     ]
    }
   ],
   "source": [
    "music = f(t, 1, freq)\n",
    "print(music.shape)"
   ]
  },
  {
   "cell_type": "code",
   "execution_count": 46,
   "metadata": {},
   "outputs": [
    {
     "ename": "PortAudioError",
     "evalue": "Error querying device -1",
     "output_type": "error",
     "traceback": [
      "\u001b[0;31m---------------------------------------------------------------------------\u001b[0m",
      "\u001b[0;31mPortAudioError\u001b[0m                            Traceback (most recent call last)",
      "\u001b[1;32m/home/jbozek/MNBI/drgania_dzwiek.ipynb Cell 6\u001b[0m line \u001b[0;36m1\n\u001b[0;32m----> <a href='vscode-notebook-cell://wsl%2Bubuntu/home/jbozek/MNBI/drgania_dzwiek.ipynb#W6sdnNjb2RlLXJlbW90ZQ%3D%3D?line=0'>1</a>\u001b[0m sd\u001b[39m.\u001b[39;49mplay(music, samplerate\u001b[39m=\u001b[39;49mfs)\n",
      "File \u001b[0;32m~/.local/lib/python3.10/site-packages/sounddevice.py:175\u001b[0m, in \u001b[0;36mplay\u001b[0;34m(data, samplerate, mapping, blocking, loop, **kwargs)\u001b[0m\n\u001b[1;32m    172\u001b[0m     ctx\u001b[39m.\u001b[39mwrite_outdata(outdata)\n\u001b[1;32m    173\u001b[0m     ctx\u001b[39m.\u001b[39mcallback_exit()\n\u001b[0;32m--> 175\u001b[0m ctx\u001b[39m.\u001b[39;49mstart_stream(OutputStream, samplerate, ctx\u001b[39m.\u001b[39;49moutput_channels,\n\u001b[1;32m    176\u001b[0m                  ctx\u001b[39m.\u001b[39;49moutput_dtype, callback, blocking,\n\u001b[1;32m    177\u001b[0m                  prime_output_buffers_using_stream_callback\u001b[39m=\u001b[39;49m\u001b[39mFalse\u001b[39;49;00m,\n\u001b[1;32m    178\u001b[0m                  \u001b[39m*\u001b[39;49m\u001b[39m*\u001b[39;49mkwargs)\n",
      "File \u001b[0;32m~/.local/lib/python3.10/site-packages/sounddevice.py:2582\u001b[0m, in \u001b[0;36m_CallbackContext.start_stream\u001b[0;34m(self, StreamClass, samplerate, channels, dtype, callback, blocking, **kwargs)\u001b[0m\n\u001b[1;32m   2579\u001b[0m \u001b[39mdef\u001b[39;00m \u001b[39mstart_stream\u001b[39m(\u001b[39mself\u001b[39m, StreamClass, samplerate, channels, dtype, callback,\n\u001b[1;32m   2580\u001b[0m                  blocking, \u001b[39m*\u001b[39m\u001b[39m*\u001b[39mkwargs):\n\u001b[1;32m   2581\u001b[0m     stop()  \u001b[39m# Stop previous playback/recording\u001b[39;00m\n\u001b[0;32m-> 2582\u001b[0m     \u001b[39mself\u001b[39m\u001b[39m.\u001b[39mstream \u001b[39m=\u001b[39m StreamClass(samplerate\u001b[39m=\u001b[39;49msamplerate,\n\u001b[1;32m   2583\u001b[0m                               channels\u001b[39m=\u001b[39;49mchannels,\n\u001b[1;32m   2584\u001b[0m                               dtype\u001b[39m=\u001b[39;49mdtype,\n\u001b[1;32m   2585\u001b[0m                               callback\u001b[39m=\u001b[39;49mcallback,\n\u001b[1;32m   2586\u001b[0m                               finished_callback\u001b[39m=\u001b[39;49m\u001b[39mself\u001b[39;49m\u001b[39m.\u001b[39;49mfinished_callback,\n\u001b[1;32m   2587\u001b[0m                               \u001b[39m*\u001b[39;49m\u001b[39m*\u001b[39;49mkwargs)\n\u001b[1;32m   2588\u001b[0m     \u001b[39mself\u001b[39m\u001b[39m.\u001b[39mstream\u001b[39m.\u001b[39mstart()\n\u001b[1;32m   2589\u001b[0m     \u001b[39mglobal\u001b[39;00m _last_callback\n",
      "File \u001b[0;32m~/.local/lib/python3.10/site-packages/sounddevice.py:1494\u001b[0m, in \u001b[0;36mOutputStream.__init__\u001b[0;34m(self, samplerate, blocksize, device, channels, dtype, latency, extra_settings, callback, finished_callback, clip_off, dither_off, never_drop_input, prime_output_buffers_using_stream_callback)\u001b[0m\n\u001b[1;32m   1464\u001b[0m \u001b[39mdef\u001b[39;00m \u001b[39m__init__\u001b[39m(\u001b[39mself\u001b[39m, samplerate\u001b[39m=\u001b[39m\u001b[39mNone\u001b[39;00m, blocksize\u001b[39m=\u001b[39m\u001b[39mNone\u001b[39;00m,\n\u001b[1;32m   1465\u001b[0m              device\u001b[39m=\u001b[39m\u001b[39mNone\u001b[39;00m, channels\u001b[39m=\u001b[39m\u001b[39mNone\u001b[39;00m, dtype\u001b[39m=\u001b[39m\u001b[39mNone\u001b[39;00m, latency\u001b[39m=\u001b[39m\u001b[39mNone\u001b[39;00m,\n\u001b[1;32m   1466\u001b[0m              extra_settings\u001b[39m=\u001b[39m\u001b[39mNone\u001b[39;00m, callback\u001b[39m=\u001b[39m\u001b[39mNone\u001b[39;00m, finished_callback\u001b[39m=\u001b[39m\u001b[39mNone\u001b[39;00m,\n\u001b[1;32m   1467\u001b[0m              clip_off\u001b[39m=\u001b[39m\u001b[39mNone\u001b[39;00m, dither_off\u001b[39m=\u001b[39m\u001b[39mNone\u001b[39;00m, never_drop_input\u001b[39m=\u001b[39m\u001b[39mNone\u001b[39;00m,\n\u001b[1;32m   1468\u001b[0m              prime_output_buffers_using_stream_callback\u001b[39m=\u001b[39m\u001b[39mNone\u001b[39;00m):\n\u001b[1;32m   1469\u001b[0m \u001b[39m    \u001b[39m\u001b[39m\"\"\"PortAudio output stream (using NumPy).\u001b[39;00m\n\u001b[1;32m   1470\u001b[0m \n\u001b[1;32m   1471\u001b[0m \u001b[39m    This has the same methods and attributes as `Stream`, except\u001b[39;00m\n\u001b[0;32m   (...)\u001b[0m\n\u001b[1;32m   1492\u001b[0m \n\u001b[1;32m   1493\u001b[0m \u001b[39m    \"\"\"\u001b[39;00m\n\u001b[0;32m-> 1494\u001b[0m     _StreamBase\u001b[39m.\u001b[39;49m\u001b[39m__init__\u001b[39;49m(\u001b[39mself\u001b[39;49m, kind\u001b[39m=\u001b[39;49m\u001b[39m'\u001b[39;49m\u001b[39moutput\u001b[39;49m\u001b[39m'\u001b[39;49m, wrap_callback\u001b[39m=\u001b[39;49m\u001b[39m'\u001b[39;49m\u001b[39marray\u001b[39;49m\u001b[39m'\u001b[39;49m,\n\u001b[1;32m   1495\u001b[0m                          \u001b[39m*\u001b[39;49m\u001b[39m*\u001b[39;49m_remove_self(\u001b[39mlocals\u001b[39;49m()))\n",
      "File \u001b[0;32m~/.local/lib/python3.10/site-packages/sounddevice.py:817\u001b[0m, in \u001b[0;36m_StreamBase.__init__\u001b[0;34m(self, kind, samplerate, blocksize, device, channels, dtype, latency, extra_settings, callback, finished_callback, clip_off, dither_off, never_drop_input, prime_output_buffers_using_stream_callback, userdata, wrap_callback)\u001b[0m\n\u001b[1;32m    814\u001b[0m         samplerate \u001b[39m=\u001b[39m isamplerate\n\u001b[1;32m    815\u001b[0m \u001b[39melse\u001b[39;00m:\n\u001b[1;32m    816\u001b[0m     parameters, \u001b[39mself\u001b[39m\u001b[39m.\u001b[39m_dtype, \u001b[39mself\u001b[39m\u001b[39m.\u001b[39m_samplesize, samplerate \u001b[39m=\u001b[39m \\\n\u001b[0;32m--> 817\u001b[0m         _get_stream_parameters(kind, device, channels, dtype, latency,\n\u001b[1;32m    818\u001b[0m                                extra_settings, samplerate)\n\u001b[1;32m    819\u001b[0m     \u001b[39mself\u001b[39m\u001b[39m.\u001b[39m_device \u001b[39m=\u001b[39m parameters\u001b[39m.\u001b[39mdevice\n\u001b[1;32m    820\u001b[0m     \u001b[39mself\u001b[39m\u001b[39m.\u001b[39m_channels \u001b[39m=\u001b[39m parameters\u001b[39m.\u001b[39mchannelCount\n",
      "File \u001b[0;32m~/.local/lib/python3.10/site-packages/sounddevice.py:2660\u001b[0m, in \u001b[0;36m_get_stream_parameters\u001b[0;34m(kind, device, channels, dtype, latency, extra_settings, samplerate)\u001b[0m\n\u001b[1;32m   2657\u001b[0m     samplerate \u001b[39m=\u001b[39m default\u001b[39m.\u001b[39msamplerate\n\u001b[1;32m   2659\u001b[0m device \u001b[39m=\u001b[39m _get_device_id(device, kind, raise_on_error\u001b[39m=\u001b[39m\u001b[39mTrue\u001b[39;00m)\n\u001b[0;32m-> 2660\u001b[0m info \u001b[39m=\u001b[39m query_devices(device)\n\u001b[1;32m   2661\u001b[0m \u001b[39mif\u001b[39;00m channels \u001b[39mis\u001b[39;00m \u001b[39mNone\u001b[39;00m:\n\u001b[1;32m   2662\u001b[0m     channels \u001b[39m=\u001b[39m info[\u001b[39m'\u001b[39m\u001b[39mmax_\u001b[39m\u001b[39m'\u001b[39m \u001b[39m+\u001b[39m kind \u001b[39m+\u001b[39m \u001b[39m'\u001b[39m\u001b[39m_channels\u001b[39m\u001b[39m'\u001b[39m]\n",
      "File \u001b[0;32m~/.local/lib/python3.10/site-packages/sounddevice.py:569\u001b[0m, in \u001b[0;36mquery_devices\u001b[0;34m(device, kind)\u001b[0m\n\u001b[1;32m    567\u001b[0m info \u001b[39m=\u001b[39m _lib\u001b[39m.\u001b[39mPa_GetDeviceInfo(device)\n\u001b[1;32m    568\u001b[0m \u001b[39mif\u001b[39;00m \u001b[39mnot\u001b[39;00m info:\n\u001b[0;32m--> 569\u001b[0m     \u001b[39mraise\u001b[39;00m PortAudioError(\u001b[39mf\u001b[39m\u001b[39m'\u001b[39m\u001b[39mError querying device \u001b[39m\u001b[39m{\u001b[39;00mdevice\u001b[39m}\u001b[39;00m\u001b[39m'\u001b[39m)\n\u001b[1;32m    570\u001b[0m \u001b[39massert\u001b[39;00m info\u001b[39m.\u001b[39mstructVersion \u001b[39m==\u001b[39m \u001b[39m2\u001b[39m\n\u001b[1;32m    571\u001b[0m name_bytes \u001b[39m=\u001b[39m _ffi\u001b[39m.\u001b[39mstring(info\u001b[39m.\u001b[39mname)\n",
      "\u001b[0;31mPortAudioError\u001b[0m: Error querying device -1"
     ]
    }
   ],
   "source": [
    "sd.play(music, samplerate=fs)\n"
   ]
  },
  {
   "cell_type": "code",
   "execution_count": 45,
   "metadata": {},
   "outputs": [
    {
     "name": "stdout",
     "output_type": "stream",
     "text": [
      "[]\n"
     ]
    }
   ],
   "source": [
    "print(list(sd.query_devices()))"
   ]
  }
 ],
 "metadata": {
  "kernelspec": {
   "display_name": "Python 3",
   "language": "python",
   "name": "python3"
  },
  "language_info": {
   "codemirror_mode": {
    "name": "ipython",
    "version": 3
   },
   "file_extension": ".py",
   "mimetype": "text/x-python",
   "name": "python",
   "nbconvert_exporter": "python",
   "pygments_lexer": "ipython3",
   "version": "3.10.12"
  }
 },
 "nbformat": 4,
 "nbformat_minor": 2
}
