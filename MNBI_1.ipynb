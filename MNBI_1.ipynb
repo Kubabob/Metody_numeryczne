{
 "cells": [
  {
   "cell_type": "markdown",
   "id": "5aa31f0f",
   "metadata": {},
   "source": [
    "# Metody numeryczne dla bioinformatyków - Lab1"
   ]
  },
  {
   "cell_type": "markdown",
   "id": "0aab7f8a",
   "metadata": {},
   "source": [
    "Zad 1. Napisać funkcję do obliczania pierwiastków równania kwadratowego w dziedzinie liczb rzeczywistych.\n",
    "\n",
    "Zad 2. Napisać program, który pobiera od użytkownika wyniki pomiaru pewnej wielkości do listy (Pusta linijka niech oznacza koniec danych). Po wczytaniu wszystkich liczb wypisuje średnią, nieobciążoną estymatę wariancji i odchylenia standardowego średniej całej sekwencji.\n",
    "\n",
    "Przypomnienie:\n",
    "\n",
    "wariancja $\\sigma^2 = \\frac{1}{N-1} \\sum_{i=1}^N(x_i-\\mu)^2$\n",
    "\n",
    "odchylenie standardowe średniej $\\bar \\sigma= \\frac{1}{\\sqrt{N}}\\sqrt{\\frac{1}{N-1}\\sum_{i=1}^N(x_i-\\mu)^2}$\n",
    "\n",
    "Zad 3. Napisać i wykonać program obliczający:\n",
    "\n",
    "$f(x) = \\sqrt{x^2+1} -1$, $g(x) = \\frac{x^2}{(\\sqrt{x^2+1}+1)}$\n",
    "\n",
    "dla $x=8^{-1}, 8^{-2}, 8^{-3},...$ \n",
    "\n",
    "Które z wyników są wiarygodne?\n",
    "\n",
    "Zad 4. Napisać i sprawdzić procedurę, która dla liczby maszynowej x oblicz wartość $y=x-\\sin(x)$ dla $x$ bliskiego $0$ z dokładnością bliską maksymalnej dla wybranej precyzji. \n",
    "\n",
    "Zad 5. Policzyć: $\\sum_{i=1}^{100} \\frac{1}{i}$, najpierw sumując od 1 do 100, a nastepnie od 100 do 1.\n",
    "\n",
    "Zad 6. Naszkicować wykres funkcji $f(x) = x+\\sin x$ dla $x\\in[-2\\pi,2\\pi]$.\n",
    "\n",
    "Zad 7. Naszkicować funkcje $f(x) = x+6$ oraz $g(x) = e^{4x}$ dla $x\\in[-10,1]$.\n",
    "\n",
    "Zad 8. Narysować wykres punktowy $f(x)=y$, dla pierwszych dziewięciu liczb naturalnych.\n"
   ]
  },
  {
   "cell_type": "code",
   "execution_count": 110,
   "id": "3728fc1a",
   "metadata": {
    "scrolled": true
   },
   "outputs": [
    {
     "name": "stdout",
     "output_type": "stream",
     "text": [
      "1\n",
      "2\n",
      "3\n",
      "5\n",
      "8\n",
      "13\n",
      "21\n",
      "34\n",
      "55\n",
      "89\n",
      "144\n",
      "233\n",
      "377\n",
      "610\n",
      "987\n"
     ]
    }
   ],
   "source": [
    "#Zad. 0. Ciąg Fibonacciego\n",
    "\n",
    "f1,f2 = 1,1\n",
    "while f2<1000:\n",
    "    print(f2)\n",
    "    f1,f2 = f2,f1+f2"
   ]
  },
  {
   "cell_type": "code",
   "execution_count": 2,
   "id": "73d379c4",
   "metadata": {},
   "outputs": [],
   "source": [
    "#Zad. 1.\n",
    "\n",
    "from math import sqrt\n",
    "\n",
    "def findRoots(a,b,c):\n",
    "    \"Rozwiązanie równania kwadratowego o współczynnikach rzeczywistych a,b,c\"\n",
    "    \n",
    "    print(a,\"x^2 +\",b,\"x +\",c,\"=\",0)\n",
    "    if a==0:\n",
    "        print(\"a = 0!\")\n",
    "        return\n",
    "\n",
    "    delta = b**2-4*a*c\n",
    "    if delta>0:\n",
    "        sqrtd = sqrt(delta)\n",
    "        x1 = (-b-sqrtd)/(2*a)\n",
    "        x2 = (-b+sqrtd)/(2*a)\n",
    "        print(\"x1=\",x1)\n",
    "        print(\"x2=\",x2)\n",
    "    elif delta==0:\n",
    "        x0 = -b/(2*a)\n",
    "        print(\"Miejsce zerowe podwójne x0=\", x0)\n",
    "    else:\n",
    "        print(\"Rzeczywiste miejsca zerowe nie istnieją\")\n",
    "    "
   ]
  },
  {
   "cell_type": "code",
   "execution_count": 7,
   "id": "54504905",
   "metadata": {
    "scrolled": true
   },
   "outputs": [
    {
     "name": "stdout",
     "output_type": "stream",
     "text": [
      "1 x^2 + 3 x + 2 = 0\n",
      "x1= -2.0\n",
      "x2= -1.0\n"
     ]
    }
   ],
   "source": [
    "findRoots(1,3,2)"
   ]
  },
  {
   "cell_type": "code",
   "execution_count": 86,
   "id": "b844e601",
   "metadata": {
    "scrolled": true
   },
   "outputs": [
    {
     "name": "stdout",
     "output_type": "stream",
     "text": [
      "Wprowadz liczbę:1\n",
      "Wprowadz liczbę:3\n",
      "Wprowadz liczbę:2.5\n",
      "Wprowadz liczbę:\n",
      "Średnia to 2.1666666666666665\n",
      "Wariancja wynosi: 1.0833333333333333\n",
      "Odchylenie wynosi: 0.6009252125773316\n"
     ]
    }
   ],
   "source": [
    "#Zad. 2.\n",
    "\n",
    "lis=[]\n",
    "suma=0\n",
    "odchylenie=0\n",
    "wariancja=0\n",
    "while True:\n",
    "    x=(input(\"Wprowadz liczbę:\"))\n",
    "    if x==\"\":\n",
    "        break\n",
    "    lis.append(x)\n",
    "\n",
    "for i in lis:\n",
    "    suma+=float(i)\n",
    "    \n",
    "srednia=suma/len(lis)\n",
    "\n",
    "print(\"Średnia to\",srednia)\n",
    "\n",
    "for j in lis:\n",
    "    wariancja+=(float(j)-srednia)**2\n",
    "\n",
    "wariancja=wariancja/(len(lis)-1)\n",
    "\n",
    "odchylenie=math.sqrt(wariancja)/math.sqrt(len(lis))\n",
    "\n",
    "print(\"Wariancja wynosi:\", wariancja)\n",
    "print(\"Odchylenie wynosi:\", odchylenie)"
   ]
  },
  {
   "cell_type": "code",
   "execution_count": 4,
   "id": "19e07453",
   "metadata": {
    "scrolled": false
   },
   "outputs": [
    {
     "name": "stdout",
     "output_type": "stream",
     "text": [
      "0.4142135623730951      0.41421356237309515\n",
      "0.0077822185373187065      0.0077822185373186414\n",
      "0.00012206286282875901      0.00012206286282867573\n",
      "1.907346813826566e-06      1.9073468138230965e-06\n",
      "2.9802321943606116e-08      2.9802321943606103e-08\n",
      "4.6566128719931904e-10      4.656612873077393e-10\n",
      "7.275957614156956e-12      7.275957614183426e-12\n",
      "1.1368683772160957e-13      1.1368683772161603e-13\n",
      "1.7763568394002489e-15      1.7763568394002505e-15\n",
      "2.7755575615628914e-17      0.0\n",
      "4.336808689942018e-19      0.0\n",
      "6.776263578034403e-21      0.0\n",
      "1.0587911840678754e-22      0.0\n",
      "1.6543612251060553e-24      0.0\n",
      "2.5849394142282115e-26      0.0\n"
     ]
    }
   ],
   "source": [
    "#Zad. 3.\n",
    "\n",
    "for i in range(0,15):\n",
    "    x=8**(-i)\n",
    "    print((x**2)/(sqrt(x**2+1)+1), \"    \",  sqrt(x**2+1)-1)"
   ]
  },
  {
   "cell_type": "code",
   "execution_count": 16,
   "id": "f72733e5",
   "metadata": {
    "scrolled": false
   },
   "outputs": [
    {
     "name": "stdout",
     "output_type": "stream",
     "text": [
      "0.15852901     0.15852898\n",
      "0.00032526662     0.00032526662\n",
      "6.357751e-07     6.357751e-07\n",
      "1.2417632e-09     1.2417632e-09\n",
      "2.4253193e-12     2.4253193e-12\n",
      "4.7369504e-15     4.7369517e-15\n",
      "9.251717e-18     9.251859e-18\n",
      "1.805239e-20     1.8070037e-20\n",
      "3.3087225e-23     3.529304e-23\n",
      "0.0     6.893172e-26\n",
      "0.0     1.3463227e-28\n",
      "0.0     2.6295364e-31\n",
      "0.0     5.1358133e-34\n",
      "0.0     1.0030885e-36\n",
      "0.0     1.959157e-39\n",
      "0.0     3.827e-42\n",
      "0.0     7e-45\n",
      "0.0     0.0\n",
      "0.0     0.0\n",
      "0.0     0.0\n"
     ]
    }
   ],
   "source": [
    "#Zad. 4.\n",
    "\n",
    "import numpy as np\n",
    "import math\n",
    "\n",
    "for i in range(0,20):\n",
    "    x=8**(-i)\n",
    "    liczba1=np.float32(x-np.sin(x))\n",
    "    liczba2 =np.float32(x**3/6*(1-x**2/20*(1-x**2/42*(1-x**2/72))))\n",
    "    print(liczba1, \"   \", liczba2)"
   ]
  },
  {
   "cell_type": "code",
   "execution_count": 98,
   "id": "364168b2",
   "metadata": {},
   "outputs": [
    {
     "name": "stdout",
     "output_type": "stream",
     "text": [
      "Sumujemy od   100 do 1  Wyniki               5.1873769760131836\n"
     ]
    }
   ],
   "source": [
    "#Zad 5.\n",
    "\n",
    "import numpy as np\n",
    "suma=np.float32(0)\n",
    "m=100\n",
    "for n in range(m,0,-1): #range(1,10001):   #,0,-1):\n",
    "    denominator=np.float32(n)\n",
    "    suma=suma+np.float32(1/denominator)\n",
    "    #print(n)\n",
    "print(\"Sumujemy od %5d do 1  Wyniki %32.16f\" % (m, suma))"
   ]
  },
  {
   "cell_type": "code",
   "execution_count": 97,
   "id": "effcfc62",
   "metadata": {},
   "outputs": [
    {
     "name": "stdout",
     "output_type": "stream",
     "text": [
      "Sumujemy od 1 do    100   Wyniki               5.1873779296875000\n"
     ]
    }
   ],
   "source": [
    "#Zad 5. cd\n",
    "\n",
    "import numpy as np\n",
    "suma=np.float32(0)\n",
    "for n in  range(1,101):  \n",
    "    denominator=np.float32(n)\n",
    "    suma=suma+np.float32(1/denominator)\n",
    "    #print(n)\n",
    "print(\"Sumujemy od 1 do  %5d   Wyniki %32.16f\" % (n, suma))"
   ]
  },
  {
   "cell_type": "code",
   "execution_count": 6,
   "id": "9a57c396",
   "metadata": {
    "scrolled": true
   },
   "outputs": [
    {
     "data": {
      "image/png": "[encoded data removed]",
      "text/plain": [
       "<Figure size 640x480 with 1 Axes>"
      ]
     },
     "metadata": {},
     "output_type": "display_data"
    }
   ],
   "source": [
    "#Zad. 6.\n",
    "\n",
    "import numpy as np\n",
    "import matplotlib.pyplot as plt\n",
    "\n",
    "dx=0.01\n",
    "x=np.arange(-2*np.pi,2*np.pi,dx)\n",
    "y=x+np.sin(x)\n",
    "plt.plot(x,y)\n",
    "plt.show()"
   ]
  },
  {
   "cell_type": "code",
   "execution_count": 68,
   "id": "df91a21c",
   "metadata": {
    "scrolled": true
   },
   "outputs": [
    {
     "data": {
      "image/png": "[encoded data removed]",
      "text/plain": [
       "<Figure size 640x480 with 1 Axes>"
      ]
     },
     "metadata": {},
     "output_type": "display_data"
    }
   ],
   "source": [
    "#Zad. 7.\n",
    "\n",
    "import matplotlib.pyplot as plt\n",
    "import numpy as np\n",
    "a=-10\n",
    "b=1\n",
    "dx=0.1\n",
    "x=np.arange(a,b,dx)\n",
    "plt.plot(x,np.exp(4*x))\n",
    "plt.plot(x,x+6)\n",
    "plt.show()"
   ]
  },
  {
   "cell_type": "code",
   "execution_count": 54,
   "id": "67c809f5",
   "metadata": {},
   "outputs": [
    {
     "data": {
      "image/png": "[encoded data removed]",
      "text/plain": [
       "<Figure size 640x480 with 1 Axes>"
      ]
     },
     "metadata": {},
     "output_type": "display_data"
    }
   ],
   "source": [
    "#Zad. 8.\n",
    "\n",
    "from matplotlib.pylab import scatter,show\n",
    "x=range(1,10)\n",
    "scatter(x,x)\n",
    "show()"
   ]
  }
 ],
 "metadata": {
  "kernelspec": {
   "display_name": "Python 3 (ipykernel)",
   "language": "python",
   "name": "python3"
  },
  "language_info": {
   "codemirror_mode": {
    "name": "ipython",
    "version": 3
   },
   "file_extension": ".py",
   "mimetype": "text/x-python",
   "name": "python",
   "nbconvert_exporter": "python",
   "pygments_lexer": "ipython3",
   "version": "3.11.4"
  }
 },
 "nbformat": 4,
 "nbformat_minor": 5
}
